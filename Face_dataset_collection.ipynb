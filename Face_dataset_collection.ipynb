{
 "cells": [
  {
   "cell_type": "markdown",
   "metadata": {},
   "source": [
    "## Collect Images For Face Recognition"
   ]
  },
  {
   "cell_type": "code",
   "execution_count": 2,
   "metadata": {},
   "outputs": [
    {
     "name": "stdout",
     "output_type": "stream",
     "text": [
      "Face not found\n",
      "Collecting Dataset, Completed\n"
     ]
    }
   ],
   "source": [
    "import cv2\n",
    "import numpy as np\n",
    "\n",
    "# Load HAAR face classifier\n",
    "face_classifier = cv2.CascadeClassifier('haarcascade_frontalface_default.xml')\n",
    "\n",
    "# Load functions\n",
    "def face_collector(img):\n",
    "    faces = face_classifier.detectMultiScale(img, 5, 5)\n",
    "    \n",
    "    if faces is ():\n",
    "        return None\n",
    "    \n",
    "    # collect all faces found\n",
    "    for (x,y,w,h) in faces:\n",
    "        x=x-1\n",
    "        y=y-1\n",
    "        face = img[y:y+h+50, x:x+w+50]\n",
    "\n",
    "    return face\n",
    "\n",
    "# Initialize Webcam\n",
    "cap = cv2.VideoCapture(0)\n",
    "count = 0\n",
    "\n",
    "# Collect 10 samples \n",
    "while True:\n",
    "\n",
    "    ret, frame = cap.read()\n",
    "    if face_collector(frame) is not None:\n",
    "        count += 1\n",
    "        face = cv2.resize(face_collector(frame), (600, 600))\n",
    "        \n",
    "        file_name_path = 'P:/Zhanng/Git hub/Collect face dataset/Images/' + str(count) + '.jpg'\n",
    "        \n",
    "        cv2.imwrite(file_name_path, face)\n",
    "\n",
    "        # Put count on images and display live count\n",
    "        cv2.putText(face, str(count)+\" \"+\"Sample\", (10, 30), cv2.FONT_HERSHEY_COMPLEX, 1, (255,25,26),1)\n",
    "        cv2.imshow('Face Collection', face)\n",
    "        \n",
    "    else:\n",
    "        print(\"Face not found\")\n",
    "        pass\n",
    "\n",
    "    if cv2.waitKey(1) == 13: # or count == 1: #13 is the Enter Key and 10 is the no of pictures \n",
    "        break\n",
    "        \n",
    "cap.release()\n",
    "cv2.destroyAllWindows()      \n",
    "print(\"Collecting Dataset, Completed\")\n"
   ]
  },
  {
   "cell_type": "code",
   "execution_count": null,
   "metadata": {},
   "outputs": [],
   "source": []
  },
  {
   "cell_type": "code",
   "execution_count": null,
   "metadata": {},
   "outputs": [],
   "source": []
  }
 ],
 "metadata": {
  "kernelspec": {
   "display_name": "Python 3",
   "language": "python",
   "name": "python3"
  },
  "language_info": {
   "codemirror_mode": {
    "name": "ipython",
    "version": 3
   },
   "file_extension": ".py",
   "mimetype": "text/x-python",
   "name": "python",
   "nbconvert_exporter": "python",
   "pygments_lexer": "ipython3",
   "version": "3.7.7"
  }
 },
 "nbformat": 4,
 "nbformat_minor": 2
}
